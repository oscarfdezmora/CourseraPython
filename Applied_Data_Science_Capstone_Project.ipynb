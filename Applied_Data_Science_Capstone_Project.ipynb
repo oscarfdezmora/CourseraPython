{
  "nbformat": 4,
  "nbformat_minor": 0,
  "metadata": {
    "colab": {
      "name": "Applied Data Science Capstone Project",
      "provenance": [],
      "authorship_tag": "ABX9TyMLXFOmLCyd1wN5x5x++orO",
      "include_colab_link": true
    },
    "kernelspec": {
      "name": "python3",
      "display_name": "Python 3"
    }
  },
  "cells": [
    {
      "cell_type": "markdown",
      "metadata": {
        "id": "view-in-github",
        "colab_type": "text"
      },
      "source": [
        "<a href=\"https://colab.research.google.com/github/oscarfdezmora/CourseraPython/blob/master/Applied_Data_Science_Capstone_Project.ipynb\" target=\"_parent\"><img src=\"https://colab.research.google.com/assets/colab-badge.svg\" alt=\"Open In Colab\"/></a>"
      ]
    },
    {
      "cell_type": "markdown",
      "metadata": {
        "id": "5jedLaA7BVL6",
        "colab_type": "text"
      },
      "source": [
        "This is the Capstone Project for **Coursera Applied Data Science** course"
      ]
    },
    {
      "cell_type": "markdown",
      "metadata": {
        "id": "uC-_DBs7BUEk",
        "colab_type": "text"
      },
      "source": [
        ""
      ]
    },
    {
      "cell_type": "code",
      "metadata": {
        "id": "dje142AGBGFN",
        "colab_type": "code",
        "colab": {}
      },
      "source": [
        "# Libraries\n",
        "import pandas as pd\n",
        "import numpy as np\n"
      ],
      "execution_count": 0,
      "outputs": []
    },
    {
      "cell_type": "code",
      "metadata": {
        "id": "YYpD67nmBvMT",
        "colab_type": "code",
        "colab": {
          "base_uri": "https://localhost:8080/",
          "height": 34
        },
        "outputId": "54bf89d5-5388-494d-e3bd-27b38b7f0db3"
      },
      "source": [
        "# First assigment\n",
        "print(\"Hello Capstone Project Course!\")"
      ],
      "execution_count": 5,
      "outputs": [
        {
          "output_type": "stream",
          "text": [
            "Hello Capstone Project Course!\n"
          ],
          "name": "stdout"
        }
      ]
    },
    {
      "cell_type": "code",
      "metadata": {
        "id": "Ym5UTfsCB3pf",
        "colab_type": "code",
        "colab": {}
      },
      "source": [
        ""
      ],
      "execution_count": 0,
      "outputs": []
    }
  ]
}